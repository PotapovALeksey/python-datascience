{
  "nbformat": 4,
  "nbformat_minor": 0,
  "metadata": {
    "colab": {
      "provenance": []
    },
    "kernelspec": {
      "name": "python3",
      "display_name": "Python 3"
    },
    "language_info": {
      "name": "python"
    }
  },
  "cells": [
    {
      "cell_type": "code",
      "execution_count": 128,
      "metadata": {
        "id": "jIy8GHjtApwy",
        "colab": {
          "base_uri": "https://localhost:8080/"
        },
        "outputId": "12099c48-6273-4194-be9c-344a1cc5a1aa"
      },
      "outputs": [
        {
          "output_type": "execute_result",
          "data": {
            "text/plain": [
              "array([ 0, -1,  2, -1,  4, -1,  6, -1,  8, -1])"
            ]
          },
          "metadata": {},
          "execution_count": 128
        }
      ],
      "source": [
        "import numpy as np\n",
        "\n",
        "# 1\n",
        "arr = np.array([0, 1, 2, 3, 4, 5, 6, 7, 8, 9])\n",
        "arr[arr % 2 == 1] = -1\n",
        "arr"
      ]
    },
    {
      "cell_type": "code",
      "source": [
        "# 2\n",
        "arr = np.arange(1, 7)\n",
        "arr.reshape(2, 3)"
      ],
      "metadata": {
        "colab": {
          "base_uri": "https://localhost:8080/"
        },
        "id": "cLh6IHgvCyVH",
        "outputId": "7a124a23-170f-4078-ffdb-c9c71f08ce6e"
      },
      "execution_count": 129,
      "outputs": [
        {
          "output_type": "execute_result",
          "data": {
            "text/plain": [
              "array([[1, 2, 3],\n",
              "       [4, 5, 6]])"
            ]
          },
          "metadata": {},
          "execution_count": 129
        }
      ]
    },
    {
      "cell_type": "code",
      "source": [
        "# 3\n",
        "a = np.random.randint(1, 11, size=(2, 4))\n",
        "b = np.random.randint(1, 11, size=(2, 4))\n",
        "\n",
        "np.vstack((a , b))"
      ],
      "metadata": {
        "colab": {
          "base_uri": "https://localhost:8080/"
        },
        "id": "utF0zT2nDE15",
        "outputId": "cd73c47a-f703-4c26-d986-02afa2507886"
      },
      "execution_count": 130,
      "outputs": [
        {
          "output_type": "execute_result",
          "data": {
            "text/plain": [
              "array([[ 4,  8,  2,  2],\n",
              "       [ 8,  8,  1,  3],\n",
              "       [10, 10,  4,  3],\n",
              "       [ 6,  9,  2,  1]])"
            ]
          },
          "metadata": {},
          "execution_count": 130
        }
      ]
    },
    {
      "cell_type": "code",
      "source": [
        "#4\n",
        "a = np.array([1,2,3])\n",
        "v = a.reshape(-1, 1)\n",
        "np.concat((np.hstack((v, v, v)).flatten(), a, a, a))\n"
      ],
      "metadata": {
        "colab": {
          "base_uri": "https://localhost:8080/"
        },
        "id": "it6fAdVrJOAQ",
        "outputId": "6293b20a-c9ba-4363-80b4-a491993297e5"
      },
      "execution_count": 131,
      "outputs": [
        {
          "output_type": "execute_result",
          "data": {
            "text/plain": [
              "array([1, 1, 1, 2, 2, 2, 3, 3, 3, 1, 2, 3, 1, 2, 3, 1, 2, 3])"
            ]
          },
          "metadata": {},
          "execution_count": 131
        }
      ]
    },
    {
      "cell_type": "code",
      "source": [
        "#5\n",
        "a = np.array([1,2,3,2,3,4,3,4,5,6])\n",
        "b = np.array([7,2,10,2,7,4,9,4,9,8])\n",
        "\n",
        "np.intersect1d(a, b)"
      ],
      "metadata": {
        "colab": {
          "base_uri": "https://localhost:8080/"
        },
        "id": "2-SS_08IVEhI",
        "outputId": "b3df906c-d261-463c-b10f-b375dc0fa66f"
      },
      "execution_count": 132,
      "outputs": [
        {
          "output_type": "execute_result",
          "data": {
            "text/plain": [
              "array([2, 4])"
            ]
          },
          "metadata": {},
          "execution_count": 132
        }
      ]
    },
    {
      "cell_type": "code",
      "source": [
        "# 6\n",
        "np.random.seed(100)\n",
        "a = np.random.uniform(1,50, 20)\n",
        "np.argsort(a)[-5:]"
      ],
      "metadata": {
        "colab": {
          "base_uri": "https://localhost:8080/"
        },
        "id": "y_FkDGF5bl-U",
        "outputId": "fece1b11-bfd3-4d7e-95f7-1683e685c477"
      },
      "execution_count": 133,
      "outputs": [
        {
          "output_type": "execute_result",
          "data": {
            "text/plain": [
              "array([18,  7,  3, 10, 15])"
            ]
          },
          "metadata": {},
          "execution_count": 133
        }
      ]
    },
    {
      "cell_type": "code",
      "source": [
        "# 7\n",
        "b=np.array([1,2,3,np.nan,5,6,7,np.nan])\n",
        "b[~np.isnan(b)]"
      ],
      "metadata": {
        "colab": {
          "base_uri": "https://localhost:8080/"
        },
        "id": "sitIDUT0ib9v",
        "outputId": "eb399e3e-abb3-4875-e633-08c29f686186"
      },
      "execution_count": 134,
      "outputs": [
        {
          "output_type": "execute_result",
          "data": {
            "text/plain": [
              "array([1., 2., 3., 5., 6., 7.])"
            ]
          },
          "metadata": {},
          "execution_count": 134
        }
      ]
    },
    {
      "cell_type": "code",
      "source": [
        "#8\n",
        "a = np.array([1,2,3,4,5])\n",
        "b = np.array([4,5,6,7,8])\n",
        "\n",
        "np.sqrt(np.sum(((b-a) ** 2)))\n",
        "\n"
      ],
      "metadata": {
        "colab": {
          "base_uri": "https://localhost:8080/"
        },
        "id": "Eiw0WIeTkZjV",
        "outputId": "0a52b5fc-3937-4fb3-e79b-fd210effdefc"
      },
      "execution_count": 146,
      "outputs": [
        {
          "output_type": "execute_result",
          "data": {
            "text/plain": [
              "np.float64(6.708203932499369)"
            ]
          },
          "metadata": {},
          "execution_count": 146
        }
      ]
    },
    {
      "cell_type": "code",
      "source": [
        "# 9\n",
        "find_index = 4\n",
        "x = np.array([1, 2, 1, 1, 3, 4, 3, 1, 1, 2, 1, 1, 2])\n",
        "indeces = np.where(x == 1)[0]\n",
        "\n",
        "indeces[find_index]"
      ],
      "metadata": {
        "colab": {
          "base_uri": "https://localhost:8080/"
        },
        "id": "JA3FSe_2rnoD",
        "outputId": "757c4fb2-0e60-47fa-deec-565b980f4546"
      },
      "execution_count": 164,
      "outputs": [
        {
          "output_type": "execute_result",
          "data": {
            "text/plain": [
              "np.int64(8)"
            ]
          },
          "metadata": {},
          "execution_count": 164
        }
      ]
    },
    {
      "cell_type": "markdown",
      "source": [],
      "metadata": {
        "id": "-Qyhek1ErnSZ"
      }
    }
  ]
}