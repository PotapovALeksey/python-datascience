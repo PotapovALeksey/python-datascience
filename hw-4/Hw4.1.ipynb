{
  "nbformat": 4,
  "nbformat_minor": 0,
  "metadata": {
    "colab": {
      "provenance": []
    },
    "kernelspec": {
      "name": "python3",
      "display_name": "Python 3"
    },
    "language_info": {
      "name": "python"
    }
  },
  "cells": [
    {
      "cell_type": "code",
      "execution_count": 3,
      "metadata": {
        "colab": {
          "base_uri": "https://localhost:8080/"
        },
        "id": "suPSvvP_xCH4",
        "outputId": "bd03ae5e-9668-4bf5-c86b-866324084601"
      },
      "outputs": [
        {
          "output_type": "execute_result",
          "data": {
            "text/plain": [
              "array([ 1,  2,  3,  4,  5,  6,  7,  8,  9, 10])"
            ]
          },
          "metadata": {},
          "execution_count": 3
        }
      ],
      "source": [
        "import numpy as np\n",
        "\n",
        "result1 = np.arange(1, 11)\n",
        "result1"
      ]
    },
    {
      "cell_type": "code",
      "source": [
        "result2 = np.zeros((3, 3))\n",
        "result2"
      ],
      "metadata": {
        "colab": {
          "base_uri": "https://localhost:8080/"
        },
        "id": "vILoLPzaxm4X",
        "outputId": "b3d58e75-382d-40e1-8c31-3b027e8bc5cc"
      },
      "execution_count": 27,
      "outputs": [
        {
          "output_type": "execute_result",
          "data": {
            "text/plain": [
              "array([[0., 0., 0.],\n",
              "       [0., 0., 0.],\n",
              "       [0., 0., 0.]])"
            ]
          },
          "metadata": {},
          "execution_count": 27
        }
      ]
    },
    {
      "cell_type": "code",
      "source": [
        "result3 = np.random.randint(1, 11, size=(5, 5), dtype=np.int_)\n",
        "result3"
      ],
      "metadata": {
        "colab": {
          "base_uri": "https://localhost:8080/"
        },
        "id": "rvCBvaMR4aOs",
        "outputId": "aa75030a-061a-446f-858e-d5c91a8987d7"
      },
      "execution_count": 5,
      "outputs": [
        {
          "output_type": "execute_result",
          "data": {
            "text/plain": [
              "array([[ 8,  8,  2,  2,  8],\n",
              "       [10, 10,  1,  9,  4],\n",
              "       [ 5,  1,  5, 10,  3],\n",
              "       [ 1,  1,  4,  7,  7],\n",
              "       [ 8, 10,  7,  8,  6]])"
            ]
          },
          "metadata": {},
          "execution_count": 5
        }
      ]
    },
    {
      "cell_type": "code",
      "source": [
        "res4 = np.random.random(size=(4, 4))\n",
        "res4"
      ],
      "metadata": {
        "colab": {
          "base_uri": "https://localhost:8080/"
        },
        "id": "3TnF4nt-606s",
        "outputId": "af607fbf-7bd0-45f9-b5aa-2c6ce21d3ba0"
      },
      "execution_count": 6,
      "outputs": [
        {
          "output_type": "execute_result",
          "data": {
            "text/plain": [
              "array([[0.439109  , 0.78743136, 0.77026999, 0.68331696],\n",
              "       [0.15219691, 0.29268858, 0.80957838, 0.23906595],\n",
              "       [0.55321915, 0.19922446, 0.60745605, 0.54372574],\n",
              "       [0.55367265, 0.57288192, 0.69698711, 0.60740765]])"
            ]
          },
          "metadata": {},
          "execution_count": 6
        }
      ]
    },
    {
      "cell_type": "code",
      "source": [
        "arr1 = np.random.randint(1, 11, size=(5))\n",
        "arr2 = np.random.randint(1, 11, size=(5))\n",
        "res5_1 = arr1 + arr2\n",
        "res5_1\n"
      ],
      "metadata": {
        "colab": {
          "base_uri": "https://localhost:8080/"
        },
        "id": "3Ev4BxY77bLi",
        "outputId": "e71a521a-790a-4122-c7b2-806610be7292"
      },
      "execution_count": 7,
      "outputs": [
        {
          "output_type": "execute_result",
          "data": {
            "text/plain": [
              "array([15,  5,  3,  4, 18])"
            ]
          },
          "metadata": {},
          "execution_count": 7
        }
      ]
    },
    {
      "cell_type": "code",
      "source": [
        "res5_2 = arr1 - arr2\n",
        "res5_2"
      ],
      "metadata": {
        "colab": {
          "base_uri": "https://localhost:8080/"
        },
        "id": "_mVyL5s88TSF",
        "outputId": "2edd63d1-be7a-48e8-8ac8-e782e5373e55"
      },
      "execution_count": 8,
      "outputs": [
        {
          "output_type": "execute_result",
          "data": {
            "text/plain": [
              "array([-1,  1, -1,  2, -2])"
            ]
          },
          "metadata": {},
          "execution_count": 8
        }
      ]
    },
    {
      "cell_type": "code",
      "source": [
        "res5_3 = arr1 * arr2\n",
        "res5_3"
      ],
      "metadata": {
        "colab": {
          "base_uri": "https://localhost:8080/"
        },
        "id": "9-r4dKTo8azu",
        "outputId": "d21361b0-11b4-45e9-92b7-4db2b00251c1"
      },
      "execution_count": 9,
      "outputs": [
        {
          "output_type": "execute_result",
          "data": {
            "text/plain": [
              "array([56,  6,  2,  3, 80])"
            ]
          },
          "metadata": {},
          "execution_count": 9
        }
      ]
    },
    {
      "cell_type": "code",
      "source": [
        "arr1 = np.random.randint(50, 100, size=(7))\n",
        "arr2 = np.random.randint(50, 100, size=(7))\n",
        "res6 = np.dot(arr1, arr2)\n",
        "res6"
      ],
      "metadata": {
        "colab": {
          "base_uri": "https://localhost:8080/"
        },
        "id": "YoJkLxbGBgkK",
        "outputId": "4914329f-c4a1-4a5b-ac9e-ab9144453e56"
      },
      "execution_count": 10,
      "outputs": [
        {
          "output_type": "execute_result",
          "data": {
            "text/plain": [
              "np.int64(36646)"
            ]
          },
          "metadata": {},
          "execution_count": 10
        }
      ]
    },
    {
      "cell_type": "code",
      "source": [
        "arr1 = np.array([[4, 5],\n",
        "                 [2, 1]])\n",
        "\n",
        "arr2 = np.array([[6, 2, 7],\n",
        "                 [3, 0, 5]])\n",
        "\n",
        "res7 = np.dot(arr1, arr2)\n",
        "res7"
      ],
      "metadata": {
        "colab": {
          "base_uri": "https://localhost:8080/"
        },
        "id": "OmAx24NqqQmU",
        "outputId": "89837754-9737-4635-863f-0d454b1efb97"
      },
      "execution_count": 11,
      "outputs": [
        {
          "output_type": "execute_result",
          "data": {
            "text/plain": [
              "array([[39,  8, 53],\n",
              "       [15,  4, 19]])"
            ]
          },
          "metadata": {},
          "execution_count": 11
        }
      ]
    },
    {
      "cell_type": "code",
      "source": [
        "mtrx = np.random.randint(1, 11, size=(3, 3))\n",
        "res8 = np.linalg.inv(mtrx)\n",
        "res8"
      ],
      "metadata": {
        "colab": {
          "base_uri": "https://localhost:8080/"
        },
        "id": "m5fkWKYRsS5g",
        "outputId": "c830b6da-4f85-4fb0-fcca-13c1972a3e81"
      },
      "execution_count": 12,
      "outputs": [
        {
          "output_type": "execute_result",
          "data": {
            "text/plain": [
              "array([[ 1.33333333e-01,  3.75000000e-02, -7.91666667e-02],\n",
              "       [-2.01451759e-18,  1.87500000e-01, -6.25000000e-02],\n",
              "       [-6.66666667e-02, -1.75000000e-01,  2.58333333e-01]])"
            ]
          },
          "metadata": {},
          "execution_count": 12
        }
      ]
    },
    {
      "cell_type": "code",
      "source": [
        "mtrx = np.random.random((4, 4))\n",
        "res9 = mtrx.T\n",
        "res9"
      ],
      "metadata": {
        "colab": {
          "base_uri": "https://localhost:8080/"
        },
        "id": "v5Nc6r-YtNsl",
        "outputId": "d0105063-b51f-45b7-dc5e-ce37a756282b"
      },
      "execution_count": 13,
      "outputs": [
        {
          "output_type": "execute_result",
          "data": {
            "text/plain": [
              "array([[0.32910335, 0.39416982, 0.33391023, 0.04525812],\n",
              "       [0.44490996, 0.62968626, 0.44336906, 0.89880524],\n",
              "       [0.88575623, 0.35041797, 0.11058156, 0.37978232],\n",
              "       [0.31103278, 0.17243344, 0.13890541, 0.95462255]])"
            ]
          },
          "metadata": {},
          "execution_count": 13
        }
      ]
    },
    {
      "cell_type": "code",
      "source": [
        "m = np.random.randint(1, 11, size=(3, 4))\n",
        "v = np.random.randint(1, 11, size=(1, 4))[0]\n",
        "res10 = np.dot(m, v)\n",
        "res10"
      ],
      "metadata": {
        "colab": {
          "base_uri": "https://localhost:8080/"
        },
        "id": "xTLZXEwJt9yU",
        "outputId": "74315be3-c020-461c-d1d7-7a1801aff40b"
      },
      "execution_count": 14,
      "outputs": [
        {
          "output_type": "execute_result",
          "data": {
            "text/plain": [
              "array([154, 205,  38])"
            ]
          },
          "metadata": {},
          "execution_count": 14
        }
      ]
    },
    {
      "cell_type": "code",
      "source": [
        "m = np.random.random(size=(2, 3))\n",
        "v = np.random.random(size=(1, 3))[0]\n",
        "res11 = np.dot(m, v)\n",
        "res11\n"
      ],
      "metadata": {
        "colab": {
          "base_uri": "https://localhost:8080/"
        },
        "id": "f-Srh6PPwwRt",
        "outputId": "7b4bbdaa-f8dd-4a80-dd2d-3fd954d4c825"
      },
      "execution_count": 15,
      "outputs": [
        {
          "output_type": "execute_result",
          "data": {
            "text/plain": [
              "array([0.73858418, 0.93811225])"
            ]
          },
          "metadata": {},
          "execution_count": 15
        }
      ]
    },
    {
      "cell_type": "code",
      "source": [
        "m1 = np.random.randint(1, 11, size=(2, 2))\n",
        "m2 = np.random.randint(1, 11, size=(2, 2))\n",
        "res12 = m1 * m2\n",
        "res12"
      ],
      "metadata": {
        "colab": {
          "base_uri": "https://localhost:8080/"
        },
        "id": "dRVDxZkTy435",
        "outputId": "2ae72fe2-9c38-423f-b2ee-b2717cc3c0ed"
      },
      "execution_count": 16,
      "outputs": [
        {
          "output_type": "execute_result",
          "data": {
            "text/plain": [
              "array([[ 14,  60],\n",
              "       [100,  45]])"
            ]
          },
          "metadata": {},
          "execution_count": 16
        }
      ]
    },
    {
      "cell_type": "code",
      "source": [
        "m1 = np.random.randint(1, 11, size=(2, 2))\n",
        "m2 = np.random.randint(1, 11, size=(2, 2))\n",
        "res13 = np.dot(m1, m2)\n",
        "res13"
      ],
      "metadata": {
        "colab": {
          "base_uri": "https://localhost:8080/"
        },
        "id": "o0v6SYFg0jN6",
        "outputId": "d07e3c3b-b79a-45b5-b680-c52decad1fc8"
      },
      "execution_count": 17,
      "outputs": [
        {
          "output_type": "execute_result",
          "data": {
            "text/plain": [
              "array([[28, 32],\n",
              "       [31, 32]])"
            ]
          },
          "metadata": {},
          "execution_count": 17
        }
      ]
    },
    {
      "cell_type": "code",
      "source": [
        "m = np.random.randint(1, 101, size=(5,5 ))\n",
        "res14 = np.sum(m)\n",
        "res14"
      ],
      "metadata": {
        "colab": {
          "base_uri": "https://localhost:8080/"
        },
        "id": "O8dMkvxC4BmV",
        "outputId": "022dd279-af06-4ecd-e303-6c409a3fd779"
      },
      "execution_count": 18,
      "outputs": [
        {
          "output_type": "execute_result",
          "data": {
            "text/plain": [
              "np.int64(1141)"
            ]
          },
          "metadata": {},
          "execution_count": 18
        }
      ]
    },
    {
      "cell_type": "code",
      "source": [
        "m1 = np.random.randint(1, 11, size=(4, 4))\n",
        "m2 = np.random.randint(1, 11, size=(4, 4))\n",
        "res15 = m1 - m2\n",
        "res15"
      ],
      "metadata": {
        "colab": {
          "base_uri": "https://localhost:8080/"
        },
        "id": "0ilyemiK4Uuy",
        "outputId": "2b866655-983e-4d11-fc83-937ffa806ae4"
      },
      "execution_count": 19,
      "outputs": [
        {
          "output_type": "execute_result",
          "data": {
            "text/plain": [
              "array([[ 3, -1, -1, -1],\n",
              "       [ 0,  3,  0, -4],\n",
              "       [ 1,  2,  7, -1],\n",
              "       [-5, -1,  3,  7]])"
            ]
          },
          "metadata": {},
          "execution_count": 19
        }
      ]
    },
    {
      "cell_type": "code",
      "source": [
        "m1 = np.random.random(size=(3, 3))\n",
        "res16 = np.sum(m1, axis=1).reshape(-1, 1)\n",
        "res16"
      ],
      "metadata": {
        "colab": {
          "base_uri": "https://localhost:8080/"
        },
        "id": "7H_9rrwx56wp",
        "outputId": "8b25ebe9-5959-40b0-d20b-fe53d96b7e51"
      },
      "execution_count": 20,
      "outputs": [
        {
          "output_type": "execute_result",
          "data": {
            "text/plain": [
              "array([[1.90636567],\n",
              "       [0.37156795],\n",
              "       [2.08164767]])"
            ]
          },
          "metadata": {},
          "execution_count": 20
        }
      ]
    },
    {
      "cell_type": "code",
      "source": [
        "m = np.random.randint(5, 10, size=(3, 4))\n",
        "res17 = m ** 2\n",
        "res17"
      ],
      "metadata": {
        "colab": {
          "base_uri": "https://localhost:8080/"
        },
        "id": "SPNM1CncEVP4",
        "outputId": "ebd99419-478d-43cd-b6d4-c95e882ad3b6"
      },
      "execution_count": 21,
      "outputs": [
        {
          "output_type": "execute_result",
          "data": {
            "text/plain": [
              "array([[36, 81, 81, 25],\n",
              "       [81, 49, 36, 25],\n",
              "       [36, 25, 64, 81]])"
            ]
          },
          "metadata": {},
          "execution_count": 21
        }
      ]
    },
    {
      "cell_type": "markdown",
      "source": [],
      "metadata": {
        "id": "giHGEDOuy4Tt"
      }
    },
    {
      "cell_type": "code",
      "source": [
        "v = np.random.randint(1, 50, size=(1, 4))[0]\n",
        "res18 = np.sqrt(v)\n",
        "res18"
      ],
      "metadata": {
        "colab": {
          "base_uri": "https://localhost:8080/"
        },
        "id": "I0sEaJtJ-ztA",
        "outputId": "4272a96c-554d-418a-fd03-b1a46436e277"
      },
      "execution_count": 26,
      "outputs": [
        {
          "output_type": "execute_result",
          "data": {
            "text/plain": [
              "array([5.65685425, 6.8556546 , 6.63324958, 6.63324958])"
            ]
          },
          "metadata": {},
          "execution_count": 26
        }
      ]
    }
  ]
}